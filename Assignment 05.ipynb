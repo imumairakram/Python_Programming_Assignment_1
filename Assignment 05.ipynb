{
 "cells": [
  {
   "cell_type": "markdown",
   "id": "ee20b39f-23b0-4165-ba79-7c2200a2123e",
   "metadata": {},
   "source": [
    "## Looping Assignment"
   ]
  },
  {
   "cell_type": "markdown",
   "id": "3bef9eb2-834a-4f9b-a77d-a951cc5a8426",
   "metadata": {},
   "source": [
    "1. Write a Python program to print the numbers from 1 to 10 using a for loop. "
   ]
  },
  {
   "cell_type": "code",
   "execution_count": 1,
   "id": "3f307d2c-e8e5-421b-a7e2-73f5ebb6d7ad",
   "metadata": {},
   "outputs": [
    {
     "name": "stdout",
     "output_type": "stream",
     "text": [
      "1\n",
      "2\n",
      "3\n",
      "4\n",
      "5\n",
      "6\n",
      "7\n",
      "8\n",
      "9\n",
      "10\n"
     ]
    }
   ],
   "source": [
    "for i in range(1, 11):\n",
    "    print(i)"
   ]
  },
  {
   "cell_type": "markdown",
   "id": "11640c15-22f1-4a28-afb9-aead4367c753",
   "metadata": {},
   "source": [
    "2. Write a Python program to print the numbers from 20 to 1 using a while loop.\r"
   ]
  },
  {
   "cell_type": "code",
   "execution_count": 2,
   "id": "e1ba2285-95ab-4a9e-a23f-685cfc451f14",
   "metadata": {},
   "outputs": [
    {
     "name": "stdout",
     "output_type": "stream",
     "text": [
      "20\n",
      "19\n",
      "18\n",
      "17\n",
      "16\n",
      "15\n",
      "14\n",
      "13\n",
      "12\n",
      "11\n",
      "10\n",
      "9\n",
      "8\n",
      "7\n",
      "6\n",
      "5\n",
      "4\n",
      "3\n",
      "2\n",
      "1\n"
     ]
    }
   ],
   "source": [
    "i = 20\n",
    "while i > 0:\n",
    "    print(i)\n",
    "    i -= 1"
   ]
  },
  {
   "cell_type": "markdown",
   "id": "e454075a-edfc-43e5-910d-1eda51a8a353",
   "metadata": {},
   "source": [
    "3. Write a program to print even numbers from 1 to 10. \r"
   ]
  },
  {
   "cell_type": "code",
   "execution_count": 3,
   "id": "7e669d92-e0b5-479c-8db2-105a6e52487a",
   "metadata": {},
   "outputs": [
    {
     "name": "stdout",
     "output_type": "stream",
     "text": [
      "2\n",
      "4\n",
      "6\n",
      "8\n",
      "10\n"
     ]
    }
   ],
   "source": [
    "for i in range(2, 11, 2):\n",
    "    print(i)"
   ]
  },
  {
   "cell_type": "markdown",
   "id": "3973bd93-d0b1-4505-91e2-b66ce6c63d1f",
   "metadata": {},
   "source": [
    "4. Write a program that prompts the user to enter a number n and prints all the\r\n",
    "numbers from 1 to n. "
   ]
  },
  {
   "cell_type": "code",
   "execution_count": 4,
   "id": "6fdd0dca-663e-4b4b-9c6b-e77114efe946",
   "metadata": {},
   "outputs": [
    {
     "name": "stdin",
     "output_type": "stream",
     "text": [
      "Enter a number:  5\n"
     ]
    },
    {
     "name": "stdout",
     "output_type": "stream",
     "text": [
      "1\n",
      "2\n",
      "3\n",
      "4\n",
      "5\n"
     ]
    }
   ],
   "source": [
    "n = int(input(\"Enter a number: \"))\n",
    "for i in range(1, n + 1):\n",
    "    print(i)\n"
   ]
  },
  {
   "cell_type": "markdown",
   "id": "414e1e59-01f4-4122-90f0-190c02a4027b",
   "metadata": {},
   "source": [
    "5. Write a program that prompts the user to enter a number n, and then prints all the\n",
    "odd numbers between 1 and n. "
   ]
  },
  {
   "cell_type": "code",
   "execution_count": 5,
   "id": "be775f49-8884-41ea-9c78-3f9caf680a53",
   "metadata": {},
   "outputs": [
    {
     "name": "stdin",
     "output_type": "stream",
     "text": [
      "Enter a number:  7\n"
     ]
    },
    {
     "name": "stdout",
     "output_type": "stream",
     "text": [
      "1\n",
      "3\n",
      "5\n",
      "7\n"
     ]
    }
   ],
   "source": [
    "n = int(input(\"Enter a number: \"))\n",
    "for i in range(1, n + 1, 2):\n",
    "    print(i)"
   ]
  },
  {
   "cell_type": "markdown",
   "id": "6fb806ec-a5d9-418f-a13a-ad702d4f0c1e",
   "metadata": {},
   "source": [
    "6. Write a program that prints 'Happy Birthday!' five times on screen. \r"
   ]
  },
  {
   "cell_type": "code",
   "execution_count": 6,
   "id": "0c3d3ca8-9307-4ca7-8519-0483a329d166",
   "metadata": {},
   "outputs": [
    {
     "name": "stdout",
     "output_type": "stream",
     "text": [
      "Happy Birthday!\n",
      "Happy Birthday!\n",
      "Happy Birthday!\n",
      "Happy Birthday!\n",
      "Happy Birthday!\n"
     ]
    }
   ],
   "source": [
    "for _ in range(5):\n",
    "    print(\"Happy Birthday!\")"
   ]
  },
  {
   "cell_type": "markdown",
   "id": "100adb03-91e0-4c88-95e0-0ca71f1594bb",
   "metadata": {},
   "source": [
    " 7. Write a program that takes a number n as input from the user and generates the first\r\n",
    "n terms of the series formed by squaring the natural numbers\n",
    "* Sample output:\n",
    "* Enter a number: 6\n",
    "*  6\r\n",
    "The first 6 terms of the series \n",
    "*  re:\r\n",
    "1 4 9 16 25 36 "
   ]
  },
  {
   "cell_type": "code",
   "execution_count": 7,
   "id": "84dd5f28-9995-4ca9-8813-11d2b7b11328",
   "metadata": {},
   "outputs": [
    {
     "name": "stdin",
     "output_type": "stream",
     "text": [
      "Enter a number:  9\n"
     ]
    },
    {
     "name": "stdout",
     "output_type": "stream",
     "text": [
      "The first 9 terms of the series are:\n",
      "1 4 9 16 25 36 49 64 81 "
     ]
    }
   ],
   "source": [
    "n = int(input(\"Enter a number: \"))\n",
    "print(\"The first\", n, \"terms of the series are:\")\n",
    "for i in range(1, n + 1):\n",
    "    print(i ** 2, end=\" \")"
   ]
  },
  {
   "cell_type": "markdown",
   "id": "03d82bcb-8881-4f71-91b0-412a5d6cb361",
   "metadata": {},
   "source": [
    "8. Write a program that prompts the user to input a number and prints its multiplication\r\n",
    "table. "
   ]
  },
  {
   "cell_type": "code",
   "execution_count": 8,
   "id": "dc50603e-fcb2-45bb-9678-11a6433f832b",
   "metadata": {},
   "outputs": [
    {
     "name": "stdin",
     "output_type": "stream",
     "text": [
      "Enter a number:  11\n"
     ]
    },
    {
     "name": "stdout",
     "output_type": "stream",
     "text": [
      "11 x 1 = 11\n",
      "11 x 2 = 22\n",
      "11 x 3 = 33\n",
      "11 x 4 = 44\n",
      "11 x 5 = 55\n",
      "11 x 6 = 66\n",
      "11 x 7 = 77\n",
      "11 x 8 = 88\n",
      "11 x 9 = 99\n",
      "11 x 10 = 110\n"
     ]
    }
   ],
   "source": [
    "n = int(input(\"Enter a number: \"))\n",
    "for i in range(1, 11):\n",
    "    print(f\"{n} x {i} = {n * i}\")"
   ]
  },
  {
   "cell_type": "markdown",
   "id": "5177abed-089d-486b-9a06-e4ac9ae0fdcf",
   "metadata": {},
   "source": [
    "9. Write a Python program to print the first 8 terms of an arithmetic progression starting\r\n",
    "with 3 and having a common difference of 4.\r\n",
    "The program should output the following sequence:\r\n",
    "3 7 11 15 19 23 27 31 \r"
   ]
  },
  {
   "cell_type": "code",
   "execution_count": 9,
   "id": "e7a0fd60-84fb-4857-8ae1-cc1464fe41fe",
   "metadata": {},
   "outputs": [
    {
     "name": "stdout",
     "output_type": "stream",
     "text": [
      "3 7 11 15 19 23 27 31 "
     ]
    }
   ],
   "source": [
    "start = 3\n",
    "diff = 4\n",
    "terms = 8\n",
    "\n",
    "for i in range(terms):\n",
    "    print(start + i * diff, end=\" \")"
   ]
  },
  {
   "cell_type": "markdown",
   "id": "fe88d0c5-3298-4733-a91d-c7819be27f90",
   "metadata": {},
   "source": [
    "10. Write a Python program to print the first 6 terms of a geometric sequence starting\r\n",
    "with 2 and having a common ratio of 3.\r\n",
    "The program should output the following sequence:\r\n",
    "2 6 18 54 162 486 \r"
   ]
  },
  {
   "cell_type": "code",
   "execution_count": 10,
   "id": "219929d2-a833-409f-9432-c430c94fa3dc",
   "metadata": {},
   "outputs": [
    {
     "name": "stdout",
     "output_type": "stream",
     "text": [
      "2 6 18 54 162 486 "
     ]
    }
   ],
   "source": [
    "start = 2\n",
    "ratio = 3\n",
    "terms = 6\n",
    "\n",
    "for i in range(terms):\n",
    "    print(start * (ratio ** i), end=\" \")"
   ]
  },
  {
   "cell_type": "markdown",
   "id": "41d6c342-8412-46ec-9fc4-159a043574db",
   "metadata": {},
   "source": [
    "11. Write a program that asks the user for a positive integer value. The program should\r\n",
    "calculate the sum of all the integers from 1 up to the number entered. For example, if\r\n",
    "the user enters 20, the loop will find the sum of 1, 2, 3, 4, ... 20. "
   ]
  },
  {
   "cell_type": "code",
   "execution_count": 11,
   "id": "509ca520-cc62-4271-9f56-fd1ee3a4670c",
   "metadata": {},
   "outputs": [
    {
     "name": "stdin",
     "output_type": "stream",
     "text": [
      "Enter a positive integer:  2\n"
     ]
    },
    {
     "name": "stdout",
     "output_type": "stream",
     "text": [
      "Sum of numbers from 1 to 2 is: 3\n"
     ]
    }
   ],
   "source": [
    "n = int(input(\"Enter a positive integer: \"))\n",
    "total = 0\n",
    "\n",
    "for i in range(1, n + 1):\n",
    "    total += i\n",
    "\n",
    "print(\"Sum of numbers from 1 to\", n, \"is:\", total)"
   ]
  },
  {
   "cell_type": "markdown",
   "id": "d82baecf-2dd3-4bd0-99ca-ce23285b32dd",
   "metadata": {},
   "source": [
    "12. write a program that takes a positive integer N as input and calculates the sum of\r\n",
    "the reciprocals of all numbers from 1 up to N. The program should display the final sum\n",
    "* Output of the program should be like:\n",
    "* Enter a positive integer: 5\n",
    "*  5\r\n",
    "The sum of reciprocals from 1 to 5 is: 2.28"
   ]
  },
  {
   "cell_type": "code",
   "execution_count": 12,
   "id": "490a9d88-0295-4401-9ad1-69aabfa729b9",
   "metadata": {},
   "outputs": [
    {
     "name": "stdin",
     "output_type": "stream",
     "text": [
      "Enter a positive integer:  6\n"
     ]
    },
    {
     "name": "stdout",
     "output_type": "stream",
     "text": [
      "The sum of reciprocals from 1 to 6 is: 2.45\n"
     ]
    }
   ],
   "source": [
    "n = int(input(\"Enter a positive integer: \"))\n",
    "total = 0.0\n",
    "\n",
    "for i in range(1, n + 1):\n",
    "    total += 1 / i\n",
    "\n",
    "print(f\"The sum of reciprocals from 1 to {n} is: {total:.2f}\")"
   ]
  },
  {
   "cell_type": "markdown",
   "id": "a05460ed-a7b1-4336-b5ef-46b6c7b7d2fe",
   "metadata": {},
   "source": [
    "13. Write a program that prompts the user to enter a number and repeats this process 5\r\n",
    "times. The program should accumulate the numbers entered and then display the final\r\n",
    "running total.\r\n",
    "Sample Outp\n",
    "t:\r\n",
    "Enter a number\n",
    " 10\r\n",
    "Enter a numbe\n",
    ": 15\r\n",
    "Enter a numb\n",
    "r: 35\r\n",
    "Enter a num\n",
    "er: 40\r\n",
    "Enter a nu\n",
    "ber: 50\r\n",
    "The final running total is: 150 "
   ]
  },
  {
   "cell_type": "code",
   "execution_count": 13,
   "id": "2b1a5794-c9e5-46fd-85b6-a6f84dc40884",
   "metadata": {},
   "outputs": [
    {
     "name": "stdin",
     "output_type": "stream",
     "text": [
      "Enter a number:  15\n",
      "Enter a number:  12\n",
      "Enter a number:  1\n",
      "Enter a number:  2\n",
      "Enter a number:  3\n"
     ]
    },
    {
     "name": "stdout",
     "output_type": "stream",
     "text": [
      "The final running total is: 33\n"
     ]
    }
   ],
   "source": [
    "total = 0\n",
    "\n",
    "for _ in range(5):\n",
    "    num = int(input(\"Enter a number: \"))\n",
    "    total += num\n",
    "\n",
    "print(\"The final running total is:\", total)"
   ]
  },
  {
   "cell_type": "markdown",
   "id": "0d5f9ca3-424a-421b-977a-00771af3d7c0",
   "metadata": {},
   "source": [
    "14. Write a program that prompts the user to enter a positive integer and calculates its\r\n",
    "factorial. The factorial of a positive integer 'n' is denoted as 'n!' and is calculated by\r\n",
    "multiplying all the integers from 1 to 'n' together. For example, the factorial of 5\r\n",
    "(denoted as 5!) is calculated as 1 x 2 x 3 x 4 x 5.\r\n",
    "The program should display the factorial value if the input is a positive number, or\r\n",
    "display a message stating that the factorial does not exist for negative numbers.\r\n",
    "Additionally, for an input of zero, the program should output that the factorial of 0 is 1."
   ]
  },
  {
   "cell_type": "code",
   "execution_count": 14,
   "id": "5b5d428b-1057-43b3-b736-9354fa0577ed",
   "metadata": {},
   "outputs": [
    {
     "name": "stdin",
     "output_type": "stream",
     "text": [
      "Enter a positive integer:  6\n"
     ]
    },
    {
     "name": "stdout",
     "output_type": "stream",
     "text": [
      "The factorial of 6 is: 720\n"
     ]
    }
   ],
   "source": [
    "n = int(input(\"Enter a positive integer: \"))\n",
    "factorial = 1\n",
    "\n",
    "if n < 0:\n",
    "    print(\"Factorial does not exist for negative numbers.\")\n",
    "elif n == 0:\n",
    "    print(\"The factorial of 0 is 1.\")\n",
    "else:\n",
    "    for i in range(1, n + 1):\n",
    "        factorial *= i\n",
    "    print(f\"The factorial of {n} is: {factorial}\")"
   ]
  },
  {
   "cell_type": "markdown",
   "id": "cf867a6d-f241-4b73-8f9e-197055046fbc",
   "metadata": {},
   "source": [
    "15. Write a Python program that prompts the user to enter a base number and an\n",
    "exponent, and then calculates the power of the base to the exponent. The program\n",
    "should not use the exponentiation operator (**) or the math.pow() function. The\n",
    "program should handle both positive and negative exponents. "
   ]
  },
  {
   "cell_type": "code",
   "execution_count": 15,
   "id": "167167ea-de43-410e-a327-2ba5e352001f",
   "metadata": {},
   "outputs": [
    {
     "name": "stdin",
     "output_type": "stream",
     "text": [
      "Enter the base number:  4\n",
      "Enter the exponent:  2\n"
     ]
    },
    {
     "name": "stdout",
     "output_type": "stream",
     "text": [
      "4 raised to the power 2 is: 16\n"
     ]
    }
   ],
   "source": [
    "base = int(input(\"Enter the base number: \"))\n",
    "exp = int(input(\"Enter the exponent: \"))\n",
    "result = 1\n",
    "\n",
    "if exp > 0:\n",
    "    for _ in range(exp):\n",
    "        result *= base\n",
    "elif exp < 0:\n",
    "    for _ in range(-exp):\n",
    "        result *= base\n",
    "    result = 1 / result\n",
    "\n",
    "print(f\"{base} raised to the power {exp} is: {result}\")\n"
   ]
  },
  {
   "cell_type": "code",
   "execution_count": null,
   "id": "259fb612-e732-4746-8e2f-405a90fd1aea",
   "metadata": {},
   "outputs": [],
   "source": []
  }
 ],
 "metadata": {
  "kernelspec": {
   "display_name": "Python 3 (ipykernel)",
   "language": "python",
   "name": "python3"
  },
  "language_info": {
   "codemirror_mode": {
    "name": "ipython",
    "version": 3
   },
   "file_extension": ".py",
   "mimetype": "text/x-python",
   "name": "python",
   "nbconvert_exporter": "python",
   "pygments_lexer": "ipython3",
   "version": "3.11.7"
  }
 },
 "nbformat": 4,
 "nbformat_minor": 5
}
