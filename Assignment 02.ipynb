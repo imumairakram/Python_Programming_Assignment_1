{
 "cells": [
  {
   "cell_type": "markdown",
   "id": "6ba9381c-74b6-4508-ad7c-d3d31bd4604a",
   "metadata": {},
   "source": [
    "## Assignment - 2 ( List, Dictionary, Loops, if-else)\r\n"
   ]
  },
  {
   "cell_type": "markdown",
   "id": "2a137be0-8a33-4b2f-9e1e-67bf11c6ab1f",
   "metadata": {},
   "source": [
    "### Scenario 1: Grocery Shopping List\n",
    "\n",
    "You are creating a program to manage a grocery shopping list. Users should be able to add items, \n",
    "remove items, and display the current list."
   ]
  },
  {
   "cell_type": "code",
   "execution_count": 1,
   "id": "93cbd837-d01e-4fd4-92ee-76344d39ff2b",
   "metadata": {},
   "outputs": [
    {
     "name": "stdout",
     "output_type": "stream",
     "text": [
      "1. Add item\n",
      "2. Remove item\n",
      "3. Display list\n",
      "4. Quit\n"
     ]
    },
    {
     "name": "stdin",
     "output_type": "stream",
     "text": [
      "Enter your choice:  1\n",
      "Enter item to add:  fruits\n"
     ]
    },
    {
     "name": "stdout",
     "output_type": "stream",
     "text": [
      "1. Add item\n",
      "2. Remove item\n",
      "3. Display list\n",
      "4. Quit\n"
     ]
    },
    {
     "name": "stdin",
     "output_type": "stream",
     "text": [
      "Enter your choice:  4\n"
     ]
    }
   ],
   "source": [
    "class GroceryList:\n",
    "    def __init__(self):\n",
    "        self.items = []\n",
    "\n",
    "    def add_item(self, item):\n",
    "        self.items.append(item)\n",
    "\n",
    "    def remove_item(self, item):\n",
    "        if item in self.items:\n",
    "            self.items.remove(item)\n",
    "\n",
    "    def display_list(self):\n",
    "        print(\"Grocery List:\")\n",
    "        for item in self.items:\n",
    "            print(item)\n",
    "\n",
    "grocery_list = GroceryList()\n",
    "\n",
    "while True:\n",
    "    print(\"1. Add item\")\n",
    "    print(\"2. Remove item\")\n",
    "    print(\"3. Display list\")\n",
    "    print(\"4. Quit\")\n",
    "    choice = input(\"Enter your choice: \")\n",
    "\n",
    "    if choice == \"1\":\n",
    "        item = input(\"Enter item to add: \")\n",
    "        grocery_list.add_item(item)\n",
    "    elif choice == \"2\":\n",
    "        item = input(\"Enter item to remove: \")\n",
    "        grocery_list.remove_item(item)\n",
    "    elif choice == \"3\":\n",
    "        grocery_list.display_list()\n",
    "    elif choice == \"4\":\n",
    "        break\n",
    "    else:\n",
    "        print(\"Invalid choice. Please try again.\")\n"
   ]
  },
  {
   "cell_type": "markdown",
   "id": "5410da8e-993c-436d-855a-1823e02ed3fc",
   "metadata": {},
   "source": [
    "### Scenario 2: Student Grades\n",
    "\n",
    "You are managing student grades using a dictionary. You need to calculate the average grade.take \n",
    "atleast 5 Students grades & then calculate the average.\n"
   ]
  },
  {
   "cell_type": "code",
   "execution_count": 3,
   "id": "19807116-e7bf-4c16-ad94-2c8a9a95e608",
   "metadata": {},
   "outputs": [
    {
     "name": "stdout",
     "output_type": "stream",
     "text": [
      "Average grade: 86.6\n"
     ]
    }
   ],
   "source": [
    "def calculate_average_grade(grades):\n",
    "    return sum(grades.values()) / len(grades)\n",
    "\n",
    "grades = {\n",
    "    \"Student 1\": 85,\n",
    "    \"Student 2\": 90,\n",
    "    \"Student 3\": 78,\n",
    "    \"Student 4\": 92,\n",
    "    \"Student 5\": 88\n",
    "}\n",
    "\n",
    "average_grade = calculate_average_grade(grades)\n",
    "print(\"Average grade:\", average_grade)"
   ]
  },
  {
   "cell_type": "markdown",
   "id": "842f5168-8280-45ac-82d9-5472a9ba5c27",
   "metadata": {},
   "source": [
    "### Scenario 3: Word Frequency Counter\n",
    "\r\n",
    "You are given a list of words, and you need to count the frequency of each word.\r\n",
    "word_list = [\"apple\", \"banana\", \"apple\", \"orange\", \"banana\", \"grape\", \"appl]e\""
   ]
  },
  {
   "cell_type": "code",
   "execution_count": 4,
   "id": "c1dbf47e-8722-4307-89ba-4cef9c5d08a9",
   "metadata": {},
   "outputs": [
    {
     "name": "stdout",
     "output_type": "stream",
     "text": [
      "Word frequencies:\n",
      "apple : 3\n",
      "banana : 2\n",
      "orange : 1\n",
      "grape : 1\n"
     ]
    }
   ],
   "source": [
    "def count_word_frequencies(word_list):\n",
    "    frequencies = {}\n",
    "    for word in word_list:\n",
    "        if word in frequencies:\n",
    "            frequencies[word] += 1\n",
    "        else:\n",
    "            frequencies[word] = 1\n",
    "    return frequencies\n",
    "\n",
    "word_list = [\"apple\", \"banana\", \"apple\", \"orange\", \"banana\", \"grape\", \"apple\"]\n",
    "frequencies = count_word_frequencies(word_list)\n",
    "print(\"Word frequencies:\")\n",
    "for word, frequency in frequencies.items():\n",
    "    print(word, \":\", frequency)\n"
   ]
  },
  {
   "cell_type": "markdown",
   "id": "ff2b3807-269f-449e-af88-d2949eb04659",
   "metadata": {},
   "source": [
    "### Scenario 4: Password Strength Checker\n",
    "\n",
    "You are creating a program to check the strength of passwords based on certain criteria.\n",
    "\n",
    "• Password should be at least 8 characters long.\n",
    "\n",
    "• Password should contain at least one digit.\n",
    "\n",
    "• Password should contain at least one letter.\n"
   ]
  },
  {
   "cell_type": "code",
   "execution_count": 6,
   "id": "06a6260c-f36a-419b-98a4-4b99c0a31221",
   "metadata": {},
   "outputs": [
    {
     "name": "stdin",
     "output_type": "stream",
     "text": [
      "Enter a password:  235432\n"
     ]
    },
    {
     "name": "stdout",
     "output_type": "stream",
     "text": [
      "Password is weak\n"
     ]
    }
   ],
   "source": [
    "def check_password_strength(password):\n",
    "    if len(password) < 8:\n",
    "        return False\n",
    "    if not any(char.isdigit() for char in password):\n",
    "        return False\n",
    "    if not any(char.isalpha() for char in password):\n",
    "        return False\n",
    "    return True\n",
    "\n",
    "password = input(\"Enter a password: \")\n",
    "if check_password_strength(password):\n",
    "    print(\"Password is strong\")\n",
    "else:\n",
    "    print(\"Password is weak\")"
   ]
  },
  {
   "cell_type": "markdown",
   "id": "116d1159-fc55-4e65-9acd-2ac50bd03bc9",
   "metadata": {},
   "source": [
    "### Scenario 5: Voting System (Annual Employee Recognition Awards)\r\n",
    "\r\n",
    "You are developing a simple voting system for a contest. Users can vote for their Favorite option, and \r\n",
    "you need to count the votes.\r\n",
    "\r\n",
    "In a corporate setting, the HR department is organizing the Annual Employee Recognition Awards, \r\n",
    "where employees get the opportunity to vote for their colleagues nominated in different categories. \r\n",
    "The HR team has decided to use a simple voting system to collect and tally votes for the nominees in \r\n",
    "various award categories. The script provided will be utilized for this purpose.\r\n",
    "\r\n",
    "Candidates: The nominees for different award categories, such as \"Employee of the Year,\" \"Team \r\n",
    "Player of the Year,\" and \"Innovation Award,\" are represented by the list of candidates: 'Candidate A,' \r\n",
    "'Candidate B,' and 'Candidate C.'\r\n",
    "\r\n",
    "Voting Process: Employees are requested to input the number of voters participating in the awards. \r\n",
    "Each voter is presented with a list of nominees, and they can vote for their preferred candidate by \r\n",
    "entering the corresponding number.\r\n",
    "\r\n",
    "Validation: The script ensures that the entered vote is within the valid range of candidates. If an \r\n",
    "employee enters an invalid vote, the system prompts them to choose a valid candidate.\r\n",
    "Recording Votes: The script records each vote for the selected candidate and prints a confirmation \r\n",
    "message indicating that the vote has been recorded.\r\n",
    "\r\n",
    "Results Display: Once all votes are collected, the system displays the voting results, showing the \r\n",
    "number of votes each candidate received in each category.\r\n",
    "\r\n",
    "Award Winners: Based on the voting results, the HR department can identify the winners for each \r\n",
    "award category and proceed with recognizing and rewarding the selected employees during the \r\n",
    "Annual Employee Recognition Ceremony.\r\n",
    "\r\n",
    "This script provides a straightforward and transparent way for employees to participate in the \r\n",
    "recognition process, fostering a sense of engagement and community within the organization. The \r\n",
    "HR team can use the collected votes to acknowledge and appreciate the efforts of outstanding \r\n",
    "employees in various aspects of their work\r\n"
   ]
  },
  {
   "cell_type": "code",
   "execution_count": 1,
   "id": "c2fcf542-9b4c-445a-a70f-b7a5999ecefe",
   "metadata": {},
   "outputs": [
    {
     "name": "stdin",
     "output_type": "stream",
     "text": [
      "Enter the number of voters:  2\n"
     ]
    },
    {
     "name": "stdout",
     "output_type": "stream",
     "text": [
      "Candidates:\n",
      "1. Candidate A\n",
      "2. Candidate B\n",
      "3. Candidate C\n"
     ]
    },
    {
     "name": "stdin",
     "output_type": "stream",
     "text": [
      "Enter the number of your chosen candidate:  1\n"
     ]
    },
    {
     "name": "stdout",
     "output_type": "stream",
     "text": [
      "Vote recorded successfully!\n",
      "Candidates:\n",
      "1. Candidate A\n",
      "2. Candidate B\n",
      "3. Candidate C\n"
     ]
    },
    {
     "name": "stdin",
     "output_type": "stream",
     "text": [
      "Enter the number of your chosen candidate:  2\n"
     ]
    },
    {
     "name": "stdout",
     "output_type": "stream",
     "text": [
      "Vote recorded successfully!\n",
      "Voting results:\n",
      "Candidate A: 1 votes\n",
      "Candidate B: 1 votes\n",
      "Candidate C: 0 votes\n"
     ]
    }
   ],
   "source": [
    "class VotingSystem:\n",
    "    def __init__(self):\n",
    "        self.candidates = [\"Candidate A\", \"Candidate B\", \"Candidate C\"]\n",
    "        self.votes = {candidate: 0 for candidate in self.candidates}\n",
    "\n",
    "    def vote(self):\n",
    "        print(\"Candidates:\")\n",
    "        for i, candidate in enumerate(self.candidates):\n",
    "            print(f\"{i+1}. {candidate}\")\n",
    "        choice = input(\"Enter the number of your chosen candidate: \")\n",
    "        if choice.isdigit() and 1 <= int(choice) <= len(self.candidates):\n",
    "            chosen_candidate = self.candidates[int(choice) - 1]\n",
    "            self.votes[chosen_candidate] += 1\n",
    "            print(\"Vote recorded successfully!\")\n",
    "        else:\n",
    "            print(\"Invalid choice. Please try again.\")\n",
    "\n",
    "    def display_results(self):\n",
    "        print(\"Voting results:\")\n",
    "        for candidate, votes in self.votes.items():\n",
    "            print(f\"{candidate}: {votes} votes\")\n",
    "\n",
    "voting_system = VotingSystem()\n",
    "num_voters = int(input(\"Enter the number of voters: \"))\n",
    "\n",
    "for _ in range(num_voters):\n",
    "    voting_system.vote()\n",
    "\n",
    "voting_system.display_results()"
   ]
  }
 ],
 "metadata": {
  "kernelspec": {
   "display_name": "Python 3 (ipykernel)",
   "language": "python",
   "name": "python3"
  },
  "language_info": {
   "codemirror_mode": {
    "name": "ipython",
    "version": 3
   },
   "file_extension": ".py",
   "mimetype": "text/x-python",
   "name": "python",
   "nbconvert_exporter": "python",
   "pygments_lexer": "ipython3",
   "version": "3.11.7"
  }
 },
 "nbformat": 4,
 "nbformat_minor": 5
}
