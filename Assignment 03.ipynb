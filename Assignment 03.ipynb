{
 "cells": [
  {
   "cell_type": "markdown",
   "id": "4b2df079-dc9a-4099-bb98-a2229462d1b8",
   "metadata": {},
   "source": [
    "## Strings Assignments "
   ]
  },
  {
   "cell_type": "markdown",
   "id": "19fb607a-6d57-4674-9cd9-b897f9d1706f",
   "metadata": {},
   "source": [
    "1. Write a program that accepts a string from user. Your program should count and display number of \n",
    "vowels in that string. "
   ]
  },
  {
   "cell_type": "code",
   "execution_count": 5,
   "id": "f8185b24-a89e-4460-b6b5-f3d5e226447e",
   "metadata": {},
   "outputs": [
    {
     "name": "stdin",
     "output_type": "stream",
     "text": [
      "Enter a string:  Umair\n"
     ]
    },
    {
     "name": "stdout",
     "output_type": "stream",
     "text": [
      "Number of vowels: 3\n"
     ]
    }
   ],
   "source": [
    "string = input(\"Enter a string: \")\n",
    "\n",
    "vowel_count = 0\n",
    "\n",
    "vowels = \"aeiouAEIOU\"\n",
    "\n",
    "for char in string:\n",
    "    if char in vowels:\n",
    "        vowel_count += 1\n",
    "\n",
    "print(\"Number of vowels:\", vowel_count)"
   ]
  },
  {
   "cell_type": "markdown",
   "id": "51d3d967-7981-41d8-9c57-b0e276b9764b",
   "metadata": {},
   "source": [
    "2. Write a program that reads a string from keyboard and display:\r\n",
    "* The number of uppercase letters in the string\r\n",
    "* The number of lowercase letters in the string\r\n",
    "* The number of digits in the string\r\n",
    "* The number of whitespace characters in the string "
   ]
  },
  {
   "cell_type": "code",
   "execution_count": 6,
   "id": "7f2ab45a-b31e-4e18-915d-d08b189756a9",
   "metadata": {},
   "outputs": [
    {
     "name": "stdout",
     "output_type": "stream",
     "text": [
      "Uppercase letters: 1\n",
      "Lowercase letters: 4\n",
      "Digits: 3\n",
      "Whitespace characters: 2\n"
     ]
    }
   ],
   "source": [
    "string = \"Umair 123 *\"\n",
    "\n",
    "uppercase_count = 0\n",
    "lowercase_count = 0\n",
    "digit_count = 0\n",
    "whitespace_count = 0\n",
    "\n",
    "for char in string:\n",
    "    if char.isupper():\n",
    "        uppercase_count += 1\n",
    "    elif char.islower():\n",
    "        lowercase_count += 1\n",
    "    elif char.isdigit():\n",
    "        digit_count += 1\n",
    "    elif char.isspace():\n",
    "        whitespace_count += 1\n",
    "\n",
    "print(\"Uppercase letters:\", uppercase_count)\n",
    "print(\"Lowercase letters:\", lowercase_count)\n",
    "print(\"Digits:\", digit_count)\n",
    "print(\"Whitespace characters:\", whitespace_count)"
   ]
  },
  {
   "cell_type": "markdown",
   "id": "1fe0a49e-69e1-4a3d-89df-b512595af9ac",
   "metadata": {},
   "source": [
    "3. Write a Python program that accepts a string from user. Your program should create and display a\r\n",
    "new string where the first and last characters have been exchanged.\r\n",
    "For example if the user enters the string 'HELLO' then new string would be 'OELLH' "
   ]
  },
  {
   "cell_type": "code",
   "execution_count": 7,
   "id": "78ee3a89-1372-4e99-a8b1-4f4c24375426",
   "metadata": {},
   "outputs": [
    {
     "name": "stdin",
     "output_type": "stream",
     "text": [
      "Enter a string 'HELLO':  HELLO'\n"
     ]
    },
    {
     "name": "stdout",
     "output_type": "stream",
     "text": [
      "New string: 'ELLOH\n"
     ]
    }
   ],
   "source": [
    "string = input(\"Enter a string 'HELLO': \")\n",
    "\n",
    "if len(string) > 1:\n",
    "    new_string = string[-1] + string[1:-1] + string[0]\n",
    "else:\n",
    "    new_string = string\n",
    "\n",
    "print(\"New string:\", new_string)"
   ]
  },
  {
   "cell_type": "markdown",
   "id": "1a15aacb-f0aa-43d9-8011-6ff26674c4ae",
   "metadata": {},
   "source": [
    "4. Write a Python program that accepts a string from user. Your program should create a new string in\r\n",
    "reverse of first string and display it               .\r\n",
    "For example if the user enters the string 'EXAM' then new string would be 'MAXE'  "
   ]
  },
  {
   "cell_type": "code",
   "execution_count": 8,
   "id": "d53bb97e-c1a8-40ae-b8bc-5365899507fb",
   "metadata": {},
   "outputs": [
    {
     "name": "stdin",
     "output_type": "stream",
     "text": [
      "Enter a String: umair\n"
     ]
    },
    {
     "name": "stdout",
     "output_type": "stream",
     "text": [
      "Reversed String: riamu\n"
     ]
    }
   ],
   "source": [
    "string = input(\"Enter a String:\")\n",
    "\n",
    "reversed_string = string[::-1]\n",
    "\n",
    "print(\"Reversed String:\", reversed_string)"
   ]
  },
  {
   "cell_type": "markdown",
   "id": "b5b61c85-1f27-4a1c-9430-4b901036d233",
   "metadata": {},
   "source": [
    " 5. Write a Python program that accepts a string from user. Your program should create a new string by\r\n",
    "shifting one position to left.\r\n",
    "For example if the user enters the string 'examination 2021' then new string would be 'xamination\r\n",
    "2021e' "
   ]
  },
  {
   "cell_type": "code",
   "execution_count": 9,
   "id": "1ff1ac17-c56d-4412-a1ee-d01264f43383",
   "metadata": {},
   "outputs": [
    {
     "name": "stdin",
     "output_type": "stream",
     "text": [
      "Enter a String: Exam 2024\n"
     ]
    },
    {
     "name": "stdout",
     "output_type": "stream",
     "text": [
      "Shifted String: xam 2024E\n"
     ]
    }
   ],
   "source": [
    "string = input(\"Enter a String:\")\n",
    "\n",
    "if len(string) > 1:\n",
    "    shifted_string = string[1:] + string[0]\n",
    "else:\n",
    "    shifted_string = string\n",
    "\n",
    "print(\"Shifted String:\", shifted_string)"
   ]
  },
  {
   "cell_type": "markdown",
   "id": "415c7108-db72-4585-a8d5-e4163afb6807",
   "metadata": {},
   "source": [
    " 6. Write a program that asks the user to input his name and print its initials. Assuming that the user\r\n",
    "always types first name, middle name and last name and does not include any unnecessary spaces.\r\n",
    "For example, if the user enters Ajay Kumar Garg the program should display A. K. G.\r\n",
    "Note:Don't use split() method \r"
   ]
  },
  {
   "cell_type": "code",
   "execution_count": 25,
   "id": "c5464891-b1b9-4b4b-8ece-918d5699537c",
   "metadata": {},
   "outputs": [
    {
     "name": "stdin",
     "output_type": "stream",
     "text": [
      "Enter your full name (first name, middle name, last name):  Muhammad Umair Akram \n"
     ]
    },
    {
     "name": "stdout",
     "output_type": "stream",
     "text": [
      "Initials: M. U. A.\n"
     ]
    }
   ],
   "source": [
    "name = input(\"Enter your full name (first name, middle name, last name): \")\n",
    "\n",
    "initials = ''\n",
    "new_word = True\n",
    "\n",
    "for char in name:\n",
    "    if new_word:\n",
    "        initials += char.upper() + '. '\n",
    "        new_word = False\n",
    "    if char == ' ':\n",
    "        new_word = True\n",
    "\n",
    "print(\"Initials:\", initials.strip())\n"
   ]
  },
  {
   "cell_type": "markdown",
   "id": "4e4e04b5-2b53-4971-bcc8-77ae6fa5999d",
   "metadata": {},
   "source": [
    "7. A palindrome is a string that reads the same backward as forward. For example, the words dad,\n",
    "madam and radar are all palindromes. Write a programs that determines whether the string is a\n",
    "palindrome.\n",
    "Note: do not use reverse() method \n"
   ]
  },
  {
   "cell_type": "code",
   "execution_count": 18,
   "id": "d1db5a88-ac2e-4bc5-8710-3302f8a5fdf7",
   "metadata": {},
   "outputs": [
    {
     "name": "stdin",
     "output_type": "stream",
     "text": [
      "Enter a string:  dad\n"
     ]
    },
    {
     "name": "stdout",
     "output_type": "stream",
     "text": [
      "The string is a palindrome.\n"
     ]
    }
   ],
   "source": [
    "string = input(\"Enter a string: \")\n",
    "\n",
    "normalized_string = string.lower().replace(\" \", \"\")\n",
    "\n",
    "if normalized_string == normalized_string[::-1]:\n",
    "    print(\"The string is a palindrome.\")\n",
    "else:\n",
    "    print(\"The string is not a palindrome.\")\n"
   ]
  },
  {
   "cell_type": "markdown",
   "id": "9072a5de-35b2-4cfd-9aca-2ca941ce003a",
   "metadata": {},
   "source": [
    "8. Write a program that display following output:\r\n",
    "SHIFT\r\n",
    "HIFTS\r\n",
    "IFTSH\r\n",
    "FTSHI\r\n",
    "TSHIF\r\n",
    "SHIFT\n",
    "SHIFT"
   ]
  },
  {
   "cell_type": "code",
   "execution_count": 22,
   "id": "9760014c-3a22-4d6d-8b0c-ed8c03039a21",
   "metadata": {},
   "outputs": [
    {
     "name": "stdin",
     "output_type": "stream",
     "text": [
      "Enter a string:  Umair\n"
     ]
    },
    {
     "name": "stdout",
     "output_type": "stream",
     "text": [
      "Umair\n",
      "mairU\n",
      "airUm\n",
      "irUma\n",
      "rUmai\n"
     ]
    }
   ],
   "source": [
    "string = input(\"Enter a string: \")\n",
    "\n",
    "for i in range(len(string)):\n",
    "    print(string[i:] + string[:i])"
   ]
  },
  {
   "cell_type": "markdown",
   "id": "6eba2eff-08e7-495e-87af-c2200b1fa026",
   "metadata": {},
   "source": [
    " 9. Write a program in python that accepts a string to setup a passwords. Your entered password must\r\n",
    "meet the following requirements\n",
    "- The password must be at least eight characters long.\n",
    "- It must contain at least one uppercase letter.\n",
    "- It must contain at least one lowercase letter.\n",
    "- It must contain at least one numeric digit.\n",
    "- Your program should should perform this validation.tion. "
   ]
  },
  {
   "cell_type": "code",
   "execution_count": 24,
   "id": "3debc2cd-b34f-4890-a338-f31f0de3123d",
   "metadata": {},
   "outputs": [
    {
     "name": "stdin",
     "output_type": "stream",
     "text": [
      "Enter a password:  Umair123!@#\n"
     ]
    },
    {
     "name": "stdout",
     "output_type": "stream",
     "text": [
      "Password is valid.\n"
     ]
    }
   ],
   "source": [
    "password = input(\"Enter a password: \")\n",
    "\n",
    "has_upper = False\n",
    "has_lower = False\n",
    "has_digit = False\n",
    "\n",
    "if len(password) >= 8:\n",
    "    for char in password:\n",
    "        if char.isupper():\n",
    "            has_upper = True\n",
    "        if char.islower():\n",
    "            has_lower = True\n",
    "        if char.isdigit():\n",
    "            has_digit = True\n",
    "\n",
    "if has_upper and has_lower and has_digit:\n",
    "    print(\"Password is valid.\")\n",
    "else:\n",
    "    print(\"Password is invalid.\")\n"
   ]
  }
 ],
 "metadata": {
  "kernelspec": {
   "display_name": "Python 3 (ipykernel)",
   "language": "python",
   "name": "python3"
  },
  "language_info": {
   "codemirror_mode": {
    "name": "ipython",
    "version": 3
   },
   "file_extension": ".py",
   "mimetype": "text/x-python",
   "name": "python",
   "nbconvert_exporter": "python",
   "pygments_lexer": "ipython3",
   "version": "3.11.7"
  }
 },
 "nbformat": 4,
 "nbformat_minor": 5
}
