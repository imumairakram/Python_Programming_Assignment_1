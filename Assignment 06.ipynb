{
 "cells": [
  {
   "cell_type": "markdown",
   "id": "8d1b435a-8d32-460e-8f7a-3c7c623eb0e0",
   "metadata": {},
   "source": [
    "### Assignment\n",
    "### Question: 1\n",
    "Write a Python program to create a class representing a Circle. Include methods to calculate its area and perimeter."
   ]
  },
  {
   "cell_type": "code",
   "execution_count": 4,
   "id": "85c1b963-eed1-40a7-80c4-ee3fcef5b6ed",
   "metadata": {},
   "outputs": [
    {
     "name": "stdout",
     "output_type": "stream",
     "text": [
      "Area: 78.5\n",
      "Perimeter: 31.400000000000002\n"
     ]
    }
   ],
   "source": [
    "class Circle:\n",
    "    def __init__(self, radius):\n",
    "        self.radius = radius\n",
    "\n",
    "    def area(self):\n",
    "        return 3.14 * self.radius ** 2\n",
    "\n",
    "    def perimeter(self):\n",
    "        return 2 * 3.14 * self.radius\n",
    "\n",
    "circle = Circle(5)\n",
    "print(\"Area:\", circle.area())\n",
    "print(\"Perimeter:\", circle.perimeter())\n"
   ]
  },
  {
   "cell_type": "markdown",
   "id": "01422c28-3ec1-48cb-b584-204ef9adb355",
   "metadata": {},
   "source": [
    "### Question: 2\n",
    "Write a Python program to create a person class. Include attributes like name, country and date of birth. Implement a method to determine the person's age."
   ]
  },
  {
   "cell_type": "code",
   "execution_count": 3,
   "id": "47ee7e44-ead0-4176-97a5-3c8a06bc05cf",
   "metadata": {},
   "outputs": [
    {
     "name": "stdout",
     "output_type": "stream",
     "text": [
      "Umair is 20 years old.\n"
     ]
    }
   ],
   "source": [
    "from datetime import date\n",
    "\n",
    "class Person:\n",
    "    def __init__(self, name, birth_year):\n",
    "        self.name = name\n",
    "        self.birth_year = birth_year\n",
    "\n",
    "    def get_age(self):\n",
    "        return date.today().year - self.birth_year\n",
    "\n",
    "person = Person(\"Umair\", 2004)\n",
    "print(f\"{person.name} is {person.get_age()} years old.\")\n"
   ]
  },
  {
   "cell_type": "markdown",
   "id": "05e755cd-5d30-4ec3-bf11-beb1d3c093d8",
   "metadata": {},
   "source": [
    "### Question: 3\n",
    "Write a Python program to create a calculator class. Include methods for basic arithmetic operations."
   ]
  },
  {
   "cell_type": "code",
   "execution_count": 2,
   "id": "a848ce89-c15f-4914-b9f8-03e3b7cdfcee",
   "metadata": {},
   "outputs": [
    {
     "name": "stdout",
     "output_type": "stream",
     "text": [
      "15\n",
      "5\n",
      "50\n",
      "Error\n"
     ]
    }
   ],
   "source": [
    "class Calculator:\n",
    "    def add(self, a, b):\n",
    "        return a + b\n",
    "\n",
    "    def subtract(self, a, b):\n",
    "        return a - b\n",
    "\n",
    "    def multiply(self, a, b):\n",
    "        return a * b\n",
    "\n",
    "    def divide(self, a, b):\n",
    "        return a / b if b != 0 else \"Error\"\n",
    "\n",
    "\n",
    "calc = Calculator()\n",
    "print(calc.add(10, 5))\n",
    "print(calc.subtract(10, 5))\n",
    "print(calc.multiply(10, 5))\n",
    "print(calc.divide(10, 0))\n"
   ]
  },
  {
   "cell_type": "code",
   "execution_count": null,
   "id": "a3033153-082c-4aef-8a2e-2cae662cd568",
   "metadata": {},
   "outputs": [],
   "source": []
  }
 ],
 "metadata": {
  "kernelspec": {
   "display_name": "Python 3 (ipykernel)",
   "language": "python",
   "name": "python3"
  },
  "language_info": {
   "codemirror_mode": {
    "name": "ipython",
    "version": 3
   },
   "file_extension": ".py",
   "mimetype": "text/x-python",
   "name": "python",
   "nbconvert_exporter": "python",
   "pygments_lexer": "ipython3",
   "version": "3.11.7"
  }
 },
 "nbformat": 4,
 "nbformat_minor": 5
}
