{
 "cells": [
  {
   "cell_type": "markdown",
   "id": "6f17d5b3-9694-45b6-bfcf-4927d10e9abd",
   "metadata": {},
   "source": [
    "## List Assignment"
   ]
  },
  {
   "cell_type": "markdown",
   "id": "dd2ae780-6ac7-47b7-bcef-b460cd75948b",
   "metadata": {},
   "source": [
    "1. Write a program that accepts a list from user and print the alternate element of list. "
   ]
  },
  {
   "cell_type": "code",
   "execution_count": 7,
   "id": "d056ce36-7f91-48bf-b83f-665004b63f70",
   "metadata": {},
   "outputs": [
    {
     "name": "stdin",
     "output_type": "stream",
     "text": [
      "Enter anything in the list, separated by space:  Umair Akram\n"
     ]
    },
    {
     "name": "stdout",
     "output_type": "stream",
     "text": [
      "Alternate elements: ['Umair']\n"
     ]
    }
   ],
   "source": [
    "list = input(\"Enter anything in the list, separated by space: \").split()\n",
    "\n",
    "print(\"Alternate elements:\", list[::2])"
   ]
  },
  {
   "cell_type": "markdown",
   "id": "fd66b55a-a6b4-4fcf-bfda-a50d973abf0b",
   "metadata": {},
   "source": [
    "2. Write a program that accepts a list from user. Your program should reverse the content of list and\r\n",
    "display it. Do not use reverse() method."
   ]
  },
  {
   "cell_type": "code",
   "execution_count": 2,
   "id": "9d207db5-cf58-4dec-815c-884449476adf",
   "metadata": {},
   "outputs": [
    {
     "name": "stdin",
     "output_type": "stream",
     "text": [
      "Enter anything in the list, separated by space:  Muhammad Umair Akram\n"
     ]
    },
    {
     "name": "stdout",
     "output_type": "stream",
     "text": [
      "Reversed list: ['Akram', 'Umair', 'Muhammad']\n"
     ]
    }
   ],
   "source": [
    "lst = input(\"Enter anything in the list, separated by space: \").split()\n",
    "\n",
    "reversed_list = lst[::-1]\n",
    "\n",
    "print(\"Reversed list:\", reversed_list)"
   ]
  },
  {
   "cell_type": "markdown",
   "id": "954256c8-6462-4691-8f0b-f31d287131c1",
   "metadata": {},
   "source": [
    " 3. Find and display the largest number of a list without using built-in function max(). Your program\r\n",
    "should ask the user to input values in list from keyboard. "
   ]
  },
  {
   "cell_type": "code",
   "execution_count": 3,
   "id": "ac1a24b7-650d-4129-b237-9b832f953350",
   "metadata": {},
   "outputs": [
    {
     "name": "stdin",
     "output_type": "stream",
     "text": [
      "Enter numbers separated by space:  1 2 3 4 5\n"
     ]
    },
    {
     "name": "stdout",
     "output_type": "stream",
     "text": [
      "Largest number: 5\n"
     ]
    }
   ],
   "source": [
    "lst = list(map(int, input(\"Enter numbers separated by space: \").split()))\n",
    "largest = lst[0]\n",
    "\n",
    "for num in lst:\n",
    "    if num > largest:\n",
    "        largest = num\n",
    "\n",
    "print(\"Largest number:\", largest)"
   ]
  },
  {
   "cell_type": "markdown",
   "id": "e28011f1-1740-44cf-a2cc-829ddf727afe",
   "metadata": {},
   "source": [
    " 4. Write a program that rotates the element of a list so that the element at the first index moves to the\r\n",
    "second index, the element in the second index moves to the third index, etc., and the element in the last\r\n",
    "index moves to the first index. "
   ]
  },
  {
   "cell_type": "code",
   "execution_count": 7,
   "id": "32957219-9c56-4058-b09d-157f3819bb48",
   "metadata": {},
   "outputs": [
    {
     "name": "stdin",
     "output_type": "stream",
     "text": [
      "Enter anything in the list, separated by space:  Muhammad Umair Akram\n"
     ]
    },
    {
     "name": "stdout",
     "output_type": "stream",
     "text": [
      "Rotated list: ['Umair', 'Akram', 'Muhammad']\n"
     ]
    }
   ],
   "source": [
    "list = input(\"Enter anything in the list, separated by space: \").split()\n",
    "\n",
    "if list:\n",
    "    rotated_list = list[1:] + list[:1]\n",
    "\n",
    "print(\"Rotated list:\", rotated_list)"
   ]
  },
  {
   "cell_type": "markdown",
   "id": "a8444efc-f797-4db9-9594-cb1204c621bc",
   "metadata": {},
   "source": [
    "5. Write a program that input a string and ask user to delete a given word from a string. \r"
   ]
  },
  {
   "cell_type": "code",
   "execution_count": 4,
   "id": "e4ae0212-305b-4474-b15b-4c0e1fe64006",
   "metadata": {},
   "outputs": [
    {
     "name": "stdin",
     "output_type": "stream",
     "text": [
      "Enter a string:  Muhammad Umair Akram\n",
      "Enter the word to delete:  Muhammad\n"
     ]
    },
    {
     "name": "stdout",
     "output_type": "stream",
     "text": [
      "New string:  Umair Akram\n"
     ]
    }
   ],
   "source": [
    "string = input(\"Enter a string: \")\n",
    "\n",
    "word_to_delete = input(\"Enter the word to delete: \")\n",
    "\n",
    "new_string = string.replace(word_to_delete, \"\")\n",
    "\n",
    "print(\"New string:\", new_string)\n"
   ]
  },
  {
   "cell_type": "markdown",
   "id": "8c082b12-2e2d-40d2-8fab-018719ab8f6e",
   "metadata": {},
   "source": [
    "6. Write a program that reads a string from the user containing a date in the form mm/dd/yyyy. It\r\n",
    "should print the date in the form March 12, 2021."
   ]
  },
  {
   "cell_type": "code",
   "execution_count": 1,
   "id": "78c0ac5f-7fd7-4fa8-86a7-92e0a77ea005",
   "metadata": {},
   "outputs": [
    {
     "name": "stdin",
     "output_type": "stream",
     "text": [
      "Enter a date (mm/dd/yyyy):  03/14/2024\n"
     ]
    },
    {
     "name": "stdout",
     "output_type": "stream",
     "text": [
      "March 14, 2024\n"
     ]
    }
   ],
   "source": [
    "date_string = input(\"Enter a date (mm/dd/yyyy): \")\n",
    "\n",
    "if date_string.count('/') != 2:\n",
    "    print(\"Error: Please enter the date in the correct format mm/dd/yyyy\")\n",
    "else:\n",
    "    months = [\"January\", \"February\", \"March\", \"April\", \"May\", \"June\", \n",
    "              \"July\", \"August\", \"September\", \"October\", \"November\", \"December\"]\n",
    "    \n",
    "    try:\n",
    "        month, day, year = date_string.split('/')\n",
    "        month_name = months[int(month) - 1]\n",
    "        print(f\"{month_name} {int(day)}, {year}\")\n",
    "    except (ValueError, IndexError):\n",
    "        print(\"Error: Invalid date input. Make sure to use numbers and the correct format mm/dd/yyyy.\")\n"
   ]
  },
  {
   "cell_type": "markdown",
   "id": "348a5c74-0839-402c-8e24-a6effc869a81",
   "metadata": {},
   "source": [
    " 7. Write a program with a function that accepts a string from keyboard and create a new string after\r\n",
    "converting character of each word capitalized. For instance, if the sentence is \"stop and smell the roses.\"\r\n",
    "the output should be \"Stop And Smell The Roses\""
   ]
  },
  {
   "cell_type": "code",
   "execution_count": 11,
   "id": "3d8dbf87-2f69-4a36-b2ff-1ff69d2f6119",
   "metadata": {},
   "outputs": [
    {
     "name": "stdin",
     "output_type": "stream",
     "text": [
      "Enter a sentence:  hello world\n"
     ]
    },
    {
     "name": "stdout",
     "output_type": "stream",
     "text": [
      "Capitalized string: Hello World\n"
     ]
    }
   ],
   "source": [
    "string = input(\"Enter a sentence: \")\n",
    "\n",
    "capitalized_string = ''\n",
    "\n",
    "for word in string.split():\n",
    "    capitalized_string += word.capitalize() + ' '\n",
    "\n",
    "print(\"Capitalized string:\", capitalized_string.strip())\n"
   ]
  },
  {
   "cell_type": "markdown",
   "id": "8468295a-9fce-43e2-9f60-f741e4ebcd42",
   "metadata": {},
   "source": [
    "8. Find the sum of each row of matrix of size m x n. For example for the following matrix output will be\r\n",
    "like this \n",
    "\n",
    "* 2 11 7 12\n",
    "* 5 2 9 15\n",
    "* 8 3 10 42\n",
    "\n",
    "Sum of row 1 = 32\r\n",
    "Sum of row 2 = 31\r\n",
    "Sum of row 3 = 63 "
   ]
  },
  {
   "cell_type": "code",
   "execution_count": 12,
   "id": "277ca0ea-1ab9-48cc-b757-f7b4eaf308e3",
   "metadata": {},
   "outputs": [
    {
     "name": "stdout",
     "output_type": "stream",
     "text": [
      "Sum of row 1 = 32\n",
      "Sum of row 2 = 31\n",
      "Sum of row 3 = 63\n"
     ]
    }
   ],
   "source": [
    "matrix = [\n",
    "    [2, 4, 6, 20],\n",
    "    [10, 10, 1, 10],\n",
    "    [10, 20, 20, 13]\n",
    "]\n",
    "\n",
    "for i, row in enumerate(matrix):\n",
    "    row_sum = sum(row)\n",
    "    print(f\"Sum of row {i+1} =\", row_sum)\n"
   ]
  },
  {
   "cell_type": "markdown",
   "id": "40280ad4-d49f-4cc6-9881-02943e6f8f9f",
   "metadata": {},
   "source": [
    "9. Write a program to add two matrices of size n x m. \r"
   ]
  },
  {
   "cell_type": "code",
   "execution_count": 13,
   "id": "47e5866a-1558-4fba-8665-a719ca4ded2a",
   "metadata": {},
   "outputs": [
    {
     "name": "stdout",
     "output_type": "stream",
     "text": [
      "Sum of matrices:\n",
      "[10, 10, 10]\n",
      "[10, 10, 10]\n",
      "[10, 10, 10]\n"
     ]
    }
   ],
   "source": [
    "matrix1 = [\n",
    "    [1, 2, 3],\n",
    "    [4, 5, 6],\n",
    "    [7, 8, 9]\n",
    "]\n",
    "matrix2 = [\n",
    "    [9, 8, 7],\n",
    "    [6, 5, 4],\n",
    "    [3, 2, 1]\n",
    "]\n",
    "\n",
    "\n",
    "result = [[0 for _ in range(len(matrix1[0]))] for _ in range(len(matrix1))]\n",
    "\n",
    "for i in range(len(matrix1)):\n",
    "    for j in range(len(matrix1[0])):\n",
    "        result[i][j] = matrix1[i][j] + matrix2[i][j]\n",
    "\n",
    "print(\"Sum of matrices:\")\n",
    "for row in result:\n",
    "    print(row)\n"
   ]
  },
  {
   "cell_type": "markdown",
   "id": "ffe3770e-8272-4606-9944-3b3717aa4a5a",
   "metadata": {},
   "source": [
    "10. Write a program to multiply two matrices "
   ]
  },
  {
   "cell_type": "code",
   "execution_count": 15,
   "id": "6dbfc01e-5b80-4c27-bc08-e52b14a0dcf5",
   "metadata": {},
   "outputs": [
    {
     "name": "stdout",
     "output_type": "stream",
     "text": [
      "Product of matrices:\n",
      "[25, 28]\n",
      "[57, 64]\n",
      "[89, 100]\n"
     ]
    }
   ],
   "source": [
    "matrix1 = [\n",
    "    [1, 2],\n",
    "    [3, 4],\n",
    "    [5, 6]\n",
    "]\n",
    "matrix2 = [\n",
    "    [7, 8],\n",
    "    [9, 10]\n",
    "]\n",
    "\n",
    "result = [[0 for _ in range(len(matrix2[0]))] for _ in range(len(matrix1))]\n",
    "\n",
    "\n",
    "for i in range(len(matrix1)):\n",
    "    for j in range(len(matrix2[0])):\n",
    "        for k in range(len(matrix2)):\n",
    "            result[i][j] += matrix1[i][k] * matrix2[k][j]\n",
    "\n",
    "print(\"Product of matrices:\")\n",
    "for row in result:\n",
    "    print(row)\n"
   ]
  },
  {
   "cell_type": "code",
   "execution_count": null,
   "id": "298cfb7a-292c-416d-a028-d977e79bdd11",
   "metadata": {},
   "outputs": [],
   "source": []
  }
 ],
 "metadata": {
  "kernelspec": {
   "display_name": "Python 3 (ipykernel)",
   "language": "python",
   "name": "python3"
  },
  "language_info": {
   "codemirror_mode": {
    "name": "ipython",
    "version": 3
   },
   "file_extension": ".py",
   "mimetype": "text/x-python",
   "name": "python",
   "nbconvert_exporter": "python",
   "pygments_lexer": "ipython3",
   "version": "3.11.7"
  }
 },
 "nbformat": 4,
 "nbformat_minor": 5
}
